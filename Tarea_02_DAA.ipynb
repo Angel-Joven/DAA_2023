{
  "nbformat": 4,
  "nbformat_minor": 0,
  "metadata": {
    "colab": {
      "provenance": [],
      "authorship_tag": "ABX9TyPZLOuqxCtzccVoXw986rl9",
      "include_colab_link": true
    },
    "kernelspec": {
      "name": "python3",
      "display_name": "Python 3"
    },
    "language_info": {
      "name": "python"
    }
  },
  "cells": [
    {
      "cell_type": "markdown",
      "metadata": {
        "id": "view-in-github",
        "colab_type": "text"
      },
      "source": [
        "<a href=\"https://colab.research.google.com/github/Angel-Joven/DAA_2023/blob/main/Tarea_02_DAA.ipynb\" target=\"_parent\"><img src=\"https://colab.research.google.com/assets/colab-badge.svg\" alt=\"Open In Colab\"/></a>"
      ]
    },
    {
      "cell_type": "code",
      "execution_count": 2,
      "metadata": {
        "colab": {
          "base_uri": "https://localhost:8080/"
        },
        "id": "Z5mmwnPZ2iSW",
        "outputId": "20a86035-f0e7-42d4-828c-5f969da908f8"
      },
      "outputs": [
        {
          "output_type": "stream",
          "name": "stdout",
          "text": [
            "[2, 4, 3, 1, 5, 7, 6, 9, 8, 10]\n",
            "[1, 2, 3, 4, 5, 6, 7, 8, 9, 10]\n"
          ]
        }
      ],
      "source": [
        "import random\n",
        " \n",
        "def bogosort(array):\n",
        "   random.shuffle(array)\n",
        "   while array != sorted(array):\n",
        "       random.shuffle(array)\n",
        "   return array\n",
        " \n",
        "lista = [2,4,3,1,5,7,6,9,8,10]\n",
        "print(lista)\n",
        "lista = bogosort(lista)\n",
        "print(lista)\n"
      ]
    }
  ]
}