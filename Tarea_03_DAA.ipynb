{
  "nbformat": 4,
  "nbformat_minor": 0,
  "metadata": {
    "colab": {
      "provenance": [],
      "authorship_tag": "ABX9TyNym9K1gt/rufko6oS3MREu",
      "include_colab_link": true
    },
    "kernelspec": {
      "name": "python3",
      "display_name": "Python 3"
    },
    "language_info": {
      "name": "python"
    }
  },
  "cells": [
    {
      "cell_type": "markdown",
      "metadata": {
        "id": "view-in-github",
        "colab_type": "text"
      },
      "source": [
        "<a href=\"https://colab.research.google.com/github/Angel-Joven/DAA_2023/blob/main/Tarea_03_DAA.ipynb\" target=\"_parent\"><img src=\"https://colab.research.google.com/assets/colab-badge.svg\" alt=\"Open In Colab\"/></a>"
      ]
    },
    {
      "cell_type": "code",
      "execution_count": 1,
      "metadata": {
        "colab": {
          "base_uri": "https://localhost:8080/"
        },
        "id": "4_qvpvk_A6MP",
        "outputId": "bff6feb4-74d7-49c1-b7ed-b40c2e1cb1d8"
      },
      "outputs": [
        {
          "output_type": "stream",
          "name": "stdout",
          "text": [
            "[2, 4, 3, 1, 5, 7, 6, 9, 8, 10]\n",
            "[1, 2, 3, 4, 5, 6, 7, 8, 9, 10]\n"
          ]
        }
      ],
      "source": [
        "def Burbuja(Lista):\n",
        "    for i in range(len(Lista)):\n",
        "        for j in range(len(Lista)-1):\n",
        "            if(Lista[j] > Lista[j+1]):\n",
        "                aux = Lista[j+1]\n",
        "                Lista[j+1] = Lista[j]\n",
        "                Lista[j] = aux\n",
        "    return Lista\n",
        "\n",
        "Lista = [2,4,3,1,5,7,6,9,8,10]\n",
        "print(Lista)\n",
        "Lista = Burbuja(Lista)\n",
        "print(Lista)"
      ]
    }
  ]
}