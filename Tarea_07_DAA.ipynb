{
  "nbformat": 4,
  "nbformat_minor": 0,
  "metadata": {
    "colab": {
      "provenance": [],
      "authorship_tag": "ABX9TyPGBBFC4ww5bj+GwLv1Y/zu",
      "include_colab_link": true
    },
    "kernelspec": {
      "name": "python3",
      "display_name": "Python 3"
    },
    "language_info": {
      "name": "python"
    }
  },
  "cells": [
    {
      "cell_type": "markdown",
      "metadata": {
        "id": "view-in-github",
        "colab_type": "text"
      },
      "source": [
        "<a href=\"https://colab.research.google.com/github/Angel-Joven/DAA_2023/blob/main/Tarea_07_DAA.ipynb\" target=\"_parent\"><img src=\"https://colab.research.google.com/assets/colab-badge.svg\" alt=\"Open In Colab\"/></a>"
      ]
    },
    {
      "cell_type": "code",
      "execution_count": 7,
      "metadata": {
        "colab": {
          "base_uri": "https://localhost:8080/",
          "height": 281
        },
        "id": "7fOlHn45xxFG",
        "outputId": "fe10ad52-675f-4c10-e21e-60d1274e5061"
      },
      "outputs": [
        {
          "output_type": "display_data",
          "data": {
            "text/plain": [
              "<Figure size 432x288 with 1 Axes>"
            ],
            "image/png": "[encoded data removed]"
          },
          "metadata": {
            "needs_background": "light"
          }
        }
      ],
      "source": [
        "import random as rand\n",
        "import numpy as np\n",
        "import matplotlib.pyplot as plt\n",
        "\n",
        "def cierre_convexo():\n",
        "    puntos_coordenadas.sort()\n",
        "    listaSuperor = nube_puntos()\n",
        "    puntos_coordenadas.reverse()\n",
        "    listaInferior = nube_puntos()\n",
        "    listaTotal = listaSuperor + listaInferior\n",
        "    return listaTotal\n",
        "\n",
        "def nube_puntos():\n",
        "    lista_coordenadas = [puntos_coordenadas[0], puntos_coordenadas[1]]\n",
        "    for i in range(2, len(puntos_coordenadas)):\n",
        "        lista_coordenadas.append(puntos_coordenadas[i])\n",
        "        while len(lista_coordenadas) > 2 and np.linalg.det([lista_coordenadas[-3], lista_coordenadas[-2], lista_coordenadas[-1]]) > 0:\n",
        "            lista_coordenadas.pop(-2)\n",
        "    return lista_coordenadas\n",
        "\n",
        "def grafica(lineas_poligono, puntos_coordenadas):\n",
        "    puntos_x = [i[0] for i in puntos_coordenadas]\n",
        "    puntos_y = [i[1] for i in puntos_coordenadas]\n",
        "    formarFigura_x = [i[0] for i in lineas_poligono]\n",
        "    formarFigura_y = [i[1] for i in lineas_poligono]\n",
        "    x_limite_der = max(puntos_x) + 5\n",
        "    y_limite_sup = max(puntos_y) + 5\n",
        "    x_limite_izq = min(puntos_x) - 5\n",
        "    y_limite_inf = min(puntos_y) - 5\n",
        "    plt.xlim(x_limite_izq, x_limite_der)\n",
        "    plt.ylim(y_limite_inf, y_limite_sup)\n",
        "    plt.title('Cierre Convexo')\n",
        "    plt.plot(puntos_x, puntos_y, 'ko')\n",
        "    plt.plot(formarFigura_x, formarFigura_y, 'r-', linewidth = 2.0)\n",
        "    plt.show()\n",
        "\n",
        "\n",
        "numero_puntos = 25\n",
        "\n",
        "puntos_coordenadas = []\n",
        "\n",
        "for i in range(numero_puntos): \n",
        "    puntos_coordenadas.append([rand.uniform(0, 50), rand.uniform(0, 100), 1.0])\n",
        "\n",
        "lineas_poligono = cierre_convexo()\n",
        "\n",
        "grafica(lineas_poligono, puntos_coordenadas)"
      ]
    }
  ]
}