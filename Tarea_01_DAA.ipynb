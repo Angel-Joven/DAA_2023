{
  "nbformat": 4,
  "nbformat_minor": 0,
  "metadata": {
    "colab": {
      "provenance": [],
      "authorship_tag": "ABX9TyNA0CLasEDv2Sk7FwVQdRtf",
      "include_colab_link": true
    },
    "kernelspec": {
      "name": "python3",
      "display_name": "Python 3"
    },
    "language_info": {
      "name": "python"
    }
  },
  "cells": [
    {
      "cell_type": "markdown",
      "metadata": {
        "id": "view-in-github",
        "colab_type": "text"
      },
      "source": [
        "<a href=\"https://colab.research.google.com/github/Angel-Joven/DAA_2023/blob/main/Tarea_01_DAA.ipynb\" target=\"_parent\"><img src=\"https://colab.research.google.com/assets/colab-badge.svg\" alt=\"Open In Colab\"/></a>"
      ]
    },
    {
      "cell_type": "code",
      "execution_count": 1,
      "metadata": {
        "colab": {
          "base_uri": "https://localhost:8080/"
        },
        "id": "rK3e_GTPjhh_",
        "outputId": "64e4c5b1-2ad8-4170-df3c-492f2fd3edcd"
      },
      "outputs": [
        {
          "output_type": "stream",
          "name": "stdout",
          "text": [
            "120\n"
          ]
        }
      ],
      "source": [
        "def Factorial(n):\n",
        "    resultado = 1\n",
        "    for i in range(1, n+1):\n",
        "        resultado = resultado * i\n",
        "    return resultado\n",
        "\n",
        "Numero = Factorial(5)\n",
        "print(Numero)"
      ]
    }
  ]
}