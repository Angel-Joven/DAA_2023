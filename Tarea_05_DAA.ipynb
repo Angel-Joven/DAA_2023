{
  "nbformat": 4,
  "nbformat_minor": 0,
  "metadata": {
    "colab": {
      "provenance": [],
      "authorship_tag": "ABX9TyMxTat3MHYED99oW2hTPT6+",
      "include_colab_link": true
    },
    "kernelspec": {
      "name": "python3",
      "display_name": "Python 3"
    },
    "language_info": {
      "name": "python"
    }
  },
  "cells": [
    {
      "cell_type": "markdown",
      "metadata": {
        "id": "view-in-github",
        "colab_type": "text"
      },
      "source": [
        "<a href=\"https://colab.research.google.com/github/Angel-Joven/DAA_2023/blob/main/Tarea_05_DAA.ipynb\" target=\"_parent\"><img src=\"https://colab.research.google.com/assets/colab-badge.svg\" alt=\"Open In Colab\"/></a>"
      ]
    },
    {
      "cell_type": "code",
      "execution_count": 1,
      "metadata": {
        "colab": {
          "base_uri": "https://localhost:8080/"
        },
        "id": "yllu1VsAYqYE",
        "outputId": "78f6e600-6239-464e-bd99-a7f3501a5682"
      },
      "outputs": [
        {
          "output_type": "stream",
          "name": "stdout",
          "text": [
            "[2, 4, 3, 1, 5, 7, 6, 9, 8, 10]\n",
            "[1, 2, 3, 4, 5, 6, 7, 8, 9, 10]\n"
          ]
        }
      ],
      "source": [
        "def MS(Lista):\n",
        "    if(len(Lista)>1):\n",
        "        L1, L2 = dividirMitad(Lista)\n",
        "        L1, L2 = MS(L1), MS(L2)\n",
        "        Lista = Merge(L1, L2)\n",
        "    return Lista\n",
        "\n",
        "def Merge(L1, L2):\n",
        "    resultante = []\n",
        "    while(len(L1)>0 and len(L2)>0):\n",
        "        if(L1[0] < L2[0]):\n",
        "            resultante.append(L1[0])\n",
        "            L1.remove(L1[0])\n",
        "        else:\n",
        "            resultante.append(L2[0])\n",
        "            L2.remove(L2[0])\n",
        "    return resultante + L1 + L2\n",
        "            \n",
        "def dividirMitad(Lista):\n",
        "    n = len(Lista)\n",
        "    m = int(n/2)\n",
        "    return Lista[:m], Lista[m:]\n",
        "\n",
        "Lista = [2,4,3,1,5,7,6,9,8,10] \n",
        "print(Lista) \n",
        "Lista = MS(Lista)\n",
        "print(Lista)"
      ]
    }
  ]
}