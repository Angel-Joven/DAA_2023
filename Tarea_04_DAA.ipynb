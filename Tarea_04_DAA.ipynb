{
  "nbformat": 4,
  "nbformat_minor": 0,
  "metadata": {
    "colab": {
      "provenance": [],
      "authorship_tag": "ABX9TyO6OsExxBb8leU0ZqWDMh3Q",
      "include_colab_link": true
    },
    "kernelspec": {
      "name": "python3",
      "display_name": "Python 3"
    },
    "language_info": {
      "name": "python"
    }
  },
  "cells": [
    {
      "cell_type": "markdown",
      "metadata": {
        "id": "view-in-github",
        "colab_type": "text"
      },
      "source": [
        "<a href=\"https://colab.research.google.com/github/Angel-Joven/DAA_2023/blob/main/Tarea_04_DAA.ipynb\" target=\"_parent\"><img src=\"https://colab.research.google.com/assets/colab-badge.svg\" alt=\"Open In Colab\"/></a>"
      ]
    },
    {
      "cell_type": "code",
      "execution_count": 1,
      "metadata": {
        "id": "GshJKxHpoimL",
        "colab": {
          "base_uri": "https://localhost:8080/"
        },
        "outputId": "82d3e97a-9f27-45ff-839a-ebbfb883957e"
      },
      "outputs": [
        {
          "output_type": "stream",
          "name": "stdout",
          "text": [
            "[2, 4, 3, 1, 5, 7, 6, 9, 8, 10]\n",
            "[1, 2, 3, 4, 5, 6, 7, 8, 9, 10]\n"
          ]
        }
      ],
      "source": [
        "def QS(Lista):\n",
        "    if(len(Lista)>1 and verificarIguales(Lista)):\n",
        "        piv = seleccionarP(Lista)\n",
        "        Lm, LM = dividirP(Lista, piv)\n",
        "        Lm, LM = QS(Lm), QS(LM)\n",
        "        return Lm+LM\n",
        "    else:\n",
        "        return Lista\n",
        "\n",
        "def seleccionarP(Lista):\n",
        "    suma = 0\n",
        "    for e in Lista:\n",
        "        suma += e\n",
        "    return suma/len(Lista)\n",
        "\n",
        "def dividirP(Lista, piv):\n",
        "    Lm = []\n",
        "    LM = []\n",
        "    for e in Lista:\n",
        "        if(e < piv):\n",
        "            Lm.append(e)\n",
        "        else:\n",
        "            LM.append(e)\n",
        "    return Lm, LM\n",
        "\n",
        "def verificarIguales(Lista):\n",
        "    if(len(Lista)>0):\n",
        "        for i in range(len(Lista)-1):\n",
        "            if(not Lista[i]==Lista[i+1]):\n",
        "                return True\n",
        "    return False\n",
        "\n",
        "Lista = [2,4,3,1,5,7,6,9,8,10] \n",
        "print(Lista) \n",
        "Lista = QS(Lista)\n",
        "print(Lista)"
      ]
    }
  ]
}